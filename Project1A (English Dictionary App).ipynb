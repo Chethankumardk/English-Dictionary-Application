{
 "cells": [
  {
   "cell_type": "markdown",
   "id": "7e8d0e2d",
   "metadata": {},
   "source": [
    "# English Dictionary App"
   ]
  },
  {
   "cell_type": "code",
   "execution_count": null,
   "id": "55175bf0",
   "metadata": {},
   "outputs": [],
   "source": [
    "import json\n",
    "\n",
    "try:\n",
    "    w1 =open(\"words.txt\",'x')\n",
    "    dic ={}\n",
    "    json.dump(dic,w1)\n",
    "    w1.close()\n",
    "    print('New Dictionary as been Created')\n",
    "except:\n",
    "    print('The Already file exist')\n",
    "    \n",
    "\n",
    "while True:\n",
    "    option=int(input('''Enter a value\n",
    "    1 - For Adding a Word\n",
    "    2 - For Searching a Word\n",
    "    3 - For Updating a Word\n",
    "    4 - For Exit \\n'''))\n",
    "    if option==1:\n",
    "        with open(\"words.txt\",'r') as f:\n",
    "            a=json.load(f)\n",
    "            word=input('Enter a word to add :').title()\n",
    "            if word in a:\n",
    "                print(\"Word already exist\")\n",
    "            else:\n",
    "                d2={word:input('Enter the meaning :')}\n",
    "                with open(\"words.txt\",'w') as f:\n",
    "                    a.update(d2)\n",
    "                    json.dump(a,f)\n",
    "                    \n",
    "    elif option==2:\n",
    "        with open(\"words.txt\",'r') as f:\n",
    "            a=json.load(f)\n",
    "            word=input('Enter a word to search :').title()\n",
    "            if word in a:\n",
    "                if a[word] =='':\n",
    "                    print(\"The word does not have meaning, You can update by selecting \\'3\\'\")\n",
    "                else:\n",
    "                    print(word,':',a[word])\n",
    "            else:\n",
    "                print(\"The word does not exist.\")\n",
    "        \n",
    "            \n",
    "    elif option==3:\n",
    "        with open(\"words.txt\",'r') as f:\n",
    "            a=json.load(f)\n",
    "            word=input('Enter a word to update :').title()\n",
    "            if word in a:\n",
    "                d2={word:input('Enter the meaning :')}\n",
    "                with open(\"words.txt\",'w') as f:\n",
    "                    a.update(d2)\n",
    "                    json.dump(a,f)\n",
    "            else:\n",
    "                print(\"Word does not exist\")\n",
    "    elif option==4:\n",
    "        break\n",
    "        \n",
    "    else:\n",
    "        print(\"Enter a valid number\")\n",
    "        continue"
   ]
  }
 ],
 "metadata": {
  "kernelspec": {
   "display_name": "Python 3 (ipykernel)",
   "language": "python",
   "name": "python3"
  },
  "language_info": {
   "codemirror_mode": {
    "name": "ipython",
    "version": 3
   },
   "file_extension": ".py",
   "mimetype": "text/x-python",
   "name": "python",
   "nbconvert_exporter": "python",
   "pygments_lexer": "ipython3",
   "version": "3.9.13"
  }
 },
 "nbformat": 4,
 "nbformat_minor": 5
}
